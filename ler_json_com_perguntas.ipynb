{
  "nbformat": 4,
  "nbformat_minor": 0,
  "metadata": {
    "colab": {
      "provenance": [],
      "authorship_tag": "ABX9TyOHpy+VZ+LfUYmblYqeMw+r",
      "include_colab_link": true
    },
    "kernelspec": {
      "name": "python3",
      "display_name": "Python 3"
    },
    "language_info": {
      "name": "python"
    }
  },
  "cells": [
    {
      "cell_type": "markdown",
      "metadata": {
        "id": "view-in-github",
        "colab_type": "text"
      },
      "source": [
        "<a href=\"https://colab.research.google.com/github/danieltalon/trabalho_RAG/blob/main/ler_json_com_perguntas.ipynb\" target=\"_parent\"><img src=\"https://colab.research.google.com/assets/colab-badge.svg\" alt=\"Open In Colab\"/></a>"
      ]
    },
    {
      "cell_type": "code",
      "execution_count": null,
      "metadata": {
        "id": "tu_xHjffA6Rp"
      },
      "outputs": [],
      "source": [
        "# script para ler um arquivo JSON que contém perguntas de vestibular e mostrar na tela em formatação de texto natural\n",
        "\n",
        "import json\n",
        "import textwrap # Para formatar a saída\n",
        "\n",
        "# --- MODIFICAÇÃO 1: Defina o caminho do arquivo diretamente ---\n",
        "file_path = '/content/questoes-Revalida+Fuvest.json'\n",
        "\n",
        "print(f\"Tentando ler o arquivo: {file_path}\")\n",
        "\n",
        "try:\n",
        "    # --- MODIFICAÇÃO 2: Abrir o arquivo do caminho especificado ---\n",
        "    # Use 'r' para modo de leitura e especifique a codificação (utf-8 é comum para JSON)\n",
        "    with open(file_path, 'r', encoding='utf-8') as f:\n",
        "        # Tentar carregar o conteúdo JSON do arquivo\n",
        "        try:\n",
        "            data = json.load(f)\n",
        "\n",
        "            print(\"\\n--- Perguntas e Respostas ---\")\n",
        "\n",
        "            # Verificar se o JSON carregado é uma lista (esperado para este arquivo)\n",
        "            if isinstance(data, list):\n",
        "                # Iterar sobre cada questão na lista\n",
        "                for i, questao in enumerate(data):\n",
        "                    try:\n",
        "                        # Extrair as informações necessárias (usando .get() para mais segurança)\n",
        "                        numero = questao.get('numero', f'N/A {i+1}') # Pega o número ou usa um índice\n",
        "                        prova = questao.get('prova', 'N/A')\n",
        "                        enunciado = questao.get('enunciado')\n",
        "                        alternativas = questao.get('alternativas')\n",
        "                        resposta_letra = questao.get('resposta')\n",
        "\n",
        "                        # Verificar se temos todas as informações essenciais\n",
        "                        if not all([enunciado, alternativas, resposta_letra]):\n",
        "                            print(f\"\\n!! Questão {numero} (Prova {prova}) está incompleta ou mal formatada. Pulando.\")\n",
        "                            print(\"---\")\n",
        "                            continue\n",
        "\n",
        "                        # Obter o texto da resposta correta\n",
        "                        resposta_texto = alternativas.get(resposta_letra)\n",
        "\n",
        "                        if resposta_texto is None:\n",
        "                             print(f\"\\n!! Questão {numero} (Prova {prova}): A letra de resposta '{resposta_letra}' não foi encontrada nas alternativas. Pulando.\")\n",
        "                             print(\"---\")\n",
        "                             continue\n",
        "\n",
        "                        # Formatar e imprimir a saída em texto natural\n",
        "                        print(f\"\\nProva {prova} - Questão {numero}\")\n",
        "                        print(\"\\nPergunta:\")\n",
        "                        # textwrap.fill ajuda a quebrar linhas longas para melhor leitura\n",
        "                        print(textwrap.fill(enunciado, width=80))\n",
        "                        print(f\"\\nResposta Correta ({resposta_letra}):\")\n",
        "                        print(textwrap.fill(resposta_texto, width=80))\n",
        "                        print(\"-\" * 30) # Separador\n",
        "\n",
        "                    except Exception as e:\n",
        "                        # Captura erros específicos de uma questão, sem parar o loop\n",
        "                        print(f\"\\n!! Erro ao processar a questão {numero} (Prova {prova}): {e}\")\n",
        "                        print(\"-\" * 30)\n",
        "\n",
        "            else:\n",
        "                 print(\"\\nErro: O conteúdo do JSON não é uma lista de questões como esperado.\")\n",
        "\n",
        "        # Capturar erros de processamento do JSON\n",
        "        except json.JSONDecodeError:\n",
        "            print(f\"\\nErro: O arquivo '{file_path}' não parece ser um arquivo JSON válido.\")\n",
        "            print(\"Verifique a formatação do arquivo.\")\n",
        "        except Exception as e:\n",
        "            print(f\"\\nOcorreu um erro inesperado ao processar o JSON: {e}\")\n",
        "\n",
        "# --- MODIFICAÇÃO 3: Capturar erro se o arquivo não for encontrado ---\n",
        "except FileNotFoundError:\n",
        "    print(f\"\\nErro: O arquivo '{file_path}' não foi encontrado.\")\n",
        "    print(\"Verifique se o arquivo foi carregado corretamente e se o caminho está correto.\")\n",
        "# Capturar erro de decodificação (menos provável com 'utf-8' explícito, mas bom ter)\n",
        "except UnicodeDecodeError:\n",
        "     print(f\"\\nErro: Não foi possível decodificar o arquivo '{file_path}' com UTF-8.\")\n",
        "     print(\"Verifique a codificação do arquivo.\")\n",
        "except Exception as e:\n",
        "    print(f\"\\nOcorreu um erro inesperado ao tentar abrir o arquivo: {e}\")"
      ]
    }
  ]
}